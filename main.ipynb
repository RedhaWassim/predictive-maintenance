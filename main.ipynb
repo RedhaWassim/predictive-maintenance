{
 "cells": [
  {
   "cell_type": "code",
   "execution_count": null,
   "id": "0f03066f",
   "metadata": {},
   "outputs": [
    {
     "ename": "KeyError",
     "evalue": "'raw'",
     "output_type": "error",
     "traceback": [
      "\u001b[31m---------------------------------------------------------------------------\u001b[39m",
      "\u001b[31mKeyError\u001b[39m                                  Traceback (most recent call last)",
      "\u001b[36mCell\u001b[39m\u001b[36m \u001b[39m\u001b[32mIn[1]\u001b[39m\u001b[32m, line 6\u001b[39m\n\u001b[32m      3\u001b[39m \u001b[38;5;28;01mwith\u001b[39;00m \u001b[38;5;28mopen\u001b[39m(\u001b[33m\"\u001b[39m\u001b[33mconfig.yaml\u001b[39m\u001b[33m\"\u001b[39m, \u001b[33m\"\u001b[39m\u001b[33mr\u001b[39m\u001b[33m\"\u001b[39m) \u001b[38;5;28;01mas\u001b[39;00m file:\n\u001b[32m      4\u001b[39m     config = yaml.safe_load(file)\n\u001b[32m----> \u001b[39m\u001b[32m6\u001b[39m layer = \u001b[43mconfig\u001b[49m\u001b[43m[\u001b[49m\u001b[33;43m\"\u001b[39;49m\u001b[33;43mazure_storage\u001b[39;49m\u001b[33;43m\"\u001b[39;49m\u001b[43m]\u001b[49m\u001b[43m[\u001b[49m\u001b[33;43m\"\u001b[39;49m\u001b[33;43mcontainers\u001b[39;49m\u001b[33;43m\"\u001b[39;49m\u001b[43m]\u001b[49m\u001b[43m[\u001b[49m\u001b[33;43m\"\u001b[39;49m\u001b[33;43mraw\u001b[39;49m\u001b[33;43m\"\u001b[39;49m\u001b[43m]\u001b[49m\n",
      "\u001b[31mKeyError\u001b[39m: 'raw'"
     ]
    }
   ],
   "source": [
    "# read from yaml\n",
    "import yaml\n",
    "with open(\"config.yaml\", \"r\") as file:\n",
    "    config = yaml.safe_load(file)\n",
    "\n",
    "layer = config[\"azure_storage\"][\"containers\"][\"bronze\"]\n"
   ]
  },
  {
   "cell_type": "markdown",
   "id": "7900368e",
   "metadata": {},
   "source": [
    "# Upload files to azure storage \n"
   ]
  },
  {
   "cell_type": "code",
   "execution_count": null,
   "id": "39e36031",
   "metadata": {},
   "outputs": [
    {
     "name": "stdout",
     "output_type": "stream",
     "text": [
      "Uploading Damage Propagation Modeling.pdf → raw/FD/Damage Propagation Modeling.pdf\n",
      "Uploading readme.txt → raw/FD/readme.txt\n",
      "Uploading RUL_FD001.txt → raw/FD/RUL_FD001.txt\n",
      "Uploading RUL_FD002.txt → raw/FD/RUL_FD002.txt\n",
      "Uploading RUL_FD003.txt → raw/FD/RUL_FD003.txt\n",
      "Uploading RUL_FD004.txt → raw/FD/RUL_FD004.txt\n",
      "Uploading test_FD001.txt → raw/FD/test_FD001.txt\n",
      "Uploading test_FD002.txt → raw/FD/test_FD002.txt\n",
      "Uploading test_FD003.txt → raw/FD/test_FD003.txt\n",
      "Uploading test_FD004.txt → raw/FD/test_FD004.txt\n",
      "Uploading train_FD001.txt → raw/FD/train_FD001.txt\n",
      "Uploading train_FD002.txt → raw/FD/train_FD002.txt\n",
      "Uploading train_FD003.txt → raw/FD/train_FD003.txt\n",
      "Uploading train_FD004.txt → raw/FD/train_FD004.txt\n",
      "Uploading x.txt → raw/FD/x.txt\n"
     ]
    }
   ],
   "source": [
    "import os\n",
    "from src.data_pipeline.ingestion.upload_to_blob import AzureBlobUploader\n",
    "\n",
    "uploader = AzureBlobUploader()\n",
    "\n",
    "local_dir = r\"D:\\2026 projects\\predictive-maintenance\\data\\raw\"\n",
    "\n",
    "\n",
    "for file_name in os.listdir(local_dir):\n",
    "    local_path = os.path.join(local_dir, file_name)\n",
    "\n",
    "    if not os.path.isfile(local_path):\n",
    "        continue\n",
    "\n",
    "    blob_name = f\"FD/{file_name}\"\n",
    "\n",
    "    print(f\"Uploading {file_name} → {layer}/{blob_name}\")\n",
    "    uploader.blob_upload(layer, local_path, blob_name)\n"
   ]
  }
 ],
 "metadata": {
  "kernelspec": {
   "display_name": "predictive-maintenance",
   "language": "python",
   "name": "python3"
  },
  "language_info": {
   "codemirror_mode": {
    "name": "ipython",
    "version": 3
   },
   "file_extension": ".py",
   "mimetype": "text/x-python",
   "name": "python",
   "nbconvert_exporter": "python",
   "pygments_lexer": "ipython3",
   "version": "3.11.0"
  }
 },
 "nbformat": 4,
 "nbformat_minor": 5
}
